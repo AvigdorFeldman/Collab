{
  "nbformat": 4,
  "nbformat_minor": 0,
  "metadata": {
    "colab": {
      "provenance": [],
      "authorship_tag": "ABX9TyNnh62queMpxbVw7f4Ft2wF",
      "include_colab_link": true
    },
    "kernelspec": {
      "name": "python3",
      "display_name": "Python 3"
    },
    "language_info": {
      "name": "python"
    }
  },
  "cells": [
    {
      "cell_type": "markdown",
      "metadata": {
        "id": "view-in-github",
        "colab_type": "text"
      },
      "source": [
        "<a href=\"https://colab.research.google.com/github/AvigdorFeldman/Collab/blob/main/tirgul1.ipynb\" target=\"_parent\"><img src=\"https://colab.research.google.com/assets/colab-badge.svg\" alt=\"Open In Colab\"/></a>"
      ]
    },
    {
      "cell_type": "code",
      "execution_count": null,
      "metadata": {
        "id": "mLD2Ky2PHIjD"
      },
      "outputs": [],
      "source": [
        "# @title Students\n",
        "import ipywidgets as widgets\n",
        "from IPython.display import display, HTML, clear_output\n",
        "from google.colab import drive\n",
        "drive.mount('/content/drive')\n",
        "\n",
        "dropdown = widgets.Dropdown(\n",
        "  options = ['', 'Shahar', 'Avigdor']\n",
        ")\n",
        "display(dropdown)\n",
        "\n",
        "def get_information(name):\n",
        "    with open('students.txt', 'r') as file:\n",
        "      lines = file.readlines()\n",
        "      for line in lines:\n",
        "        data = line.split(', ')\n",
        "        if data[0] == name:\n",
        "          return data\n",
        "\n",
        "\n",
        "def handle_change(change):\n",
        "  clear_output(wait=True)\n",
        "  display(dropdown)\n",
        "  student_info = get_information(change.new)\n",
        "  if student_info:\n",
        "    html_content = f\"\"\"\n",
        "      <html>\n",
        "        <head>\n",
        "          <style>\n",
        "            th {{\n",
        "              text-align: left;\n",
        "            }}\n",
        "            td {{\n",
        "              text-align: left;\n",
        "            }}\n",
        "          </style>\n",
        "        </head>\n",
        "        <body>\n",
        "          <table>\n",
        "            <tr>\n",
        "              <th>First Name:</th>\n",
        "              <td>{student_info[0]}</td>\n",
        "            </tr>\n",
        "            <tr>\n",
        "              <th>Family Name:</th>\n",
        "              <td>{student_info[1]}</td>\n",
        "            </tr>\n",
        "            <tr>\n",
        "              <th>Courses:</th>\n",
        "              <td>{student_info[2]}</td>\n",
        "            </tr>\n",
        "            <tr>\n",
        "              <th>Link:</th>\n",
        "              <td><a href=\"{student_info[3]}\" target=\"_blank\">{student_info[3]}</a></td>\n",
        "            </tr>\n",
        "          </table>\n",
        "        </body>\n",
        "      </html>\n",
        "        \"\"\"\n",
        "    display(HTML(html_content))\n",
        "\n",
        "dropdown.observe(handle_change, names='value')"
      ]
    }
  ]
}